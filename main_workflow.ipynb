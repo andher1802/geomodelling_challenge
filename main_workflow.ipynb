{
 "cells": [
  {
   "cell_type": "code",
   "execution_count": 3,
   "id": "aa84e039-ce1f-44b8-8dd5-25450b6aa1e8",
   "metadata": {},
   "outputs": [],
   "source": [
    "import os\n",
    "import argparse\n",
    "import datetime\n",
    "import re\n",
    "import numpy as np\n",
    "import pandas as pd\n",
    "import geopandas as gpd\n",
    "import rasterio\n",
    "import shapely\n",
    "import dask.array as da"
   ]
  },
  {
   "cell_type": "code",
   "execution_count": 4,
   "id": "7addc79e-7d20-4750-bd53-299ff4429687",
   "metadata": {},
   "outputs": [],
   "source": [
    "from osgeo import ogr, osr, gdal\n",
    "from rasterio.crs import CRS\n",
    "from rasterio.warp import reproject, Resampling\n",
    "from dateutil.relativedelta import *"
   ]
  },
  {
   "cell_type": "code",
   "execution_count": null,
   "id": "806de5ea-fb02-4b28-9e02-0c2f8c5b0724",
   "metadata": {},
   "outputs": [],
   "source": []
  }
 ],
 "metadata": {
  "kernelspec": {
   "display_name": "geoenv",
   "language": "python",
   "name": "geoenv"
  },
  "language_info": {
   "codemirror_mode": {
    "name": "ipython",
    "version": 3
   },
   "file_extension": ".py",
   "mimetype": "text/x-python",
   "name": "python",
   "nbconvert_exporter": "python",
   "pygments_lexer": "ipython3",
   "version": "3.8.10"
  }
 },
 "nbformat": 4,
 "nbformat_minor": 5
}
