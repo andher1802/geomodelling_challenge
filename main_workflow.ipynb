{
 "cells": [
  {
   "cell_type": "code",
   "execution_count": 1,
   "id": "aa84e039-ce1f-44b8-8dd5-25450b6aa1e8",
   "metadata": {},
   "outputs": [],
   "source": [
    "import os\n",
    "import argparse\n",
    "import datetime\n",
    "import re\n",
    "import numpy as np\n",
    "import pandas as pd\n",
    "import geopandas as gpd\n",
    "import rasterio\n",
    "import shapely\n",
    "import dask.array as da"
   ]
  },
  {
   "cell_type": "code",
   "execution_count": 2,
   "id": "7addc79e-7d20-4750-bd53-299ff4429687",
   "metadata": {},
   "outputs": [],
   "source": [
    "from osgeo import ogr, osr, gdal\n",
    "from rasterio.crs import CRS\n",
    "from rasterio.warp import reproject, Resampling\n",
    "from dateutil.relativedelta import *"
   ]
  },
  {
   "cell_type": "code",
   "execution_count": 5,
   "id": "2b0a012f-1eb5-4c8a-9535-65f8a7558a38",
   "metadata": {},
   "outputs": [],
   "source": [
    "# do this in terminal before running the jupyter lab server or in .bashrc\n",
    "# export STAC_API_URL=\"https://earth-search.aws.element84.com/v0\""
   ]
  },
  {
   "cell_type": "code",
   "execution_count": 4,
   "id": "806de5ea-fb02-4b28-9e02-0c2f8c5b0724",
   "metadata": {},
   "outputs": [
    {
     "name": "stdout",
     "output_type": "stream",
     "text": [
      "bbox search: 25360 items\n",
      "time search: 714897 items\n",
      "cloud_cover search: 15885354 items\n"
     ]
    }
   ],
   "source": [
    "from satsearch import Search\n",
    "\n",
    "search = Search(bbox=[-110, 39.5, -105, 40.5])\n",
    "print('bbox search: %s items' % search.found())\n",
    "\n",
    "search = Search(datetime='2018-02-12T00:00:00Z/2018-03-18T12:31:12Z')\n",
    "print('time search: %s items' % search.found())\n",
    "\n",
    "search = Search(query={'eo:cloud_cover': {'lt': 10}})\n",
    "print('cloud_cover search: %s items' % search.found())"
   ]
  },
  {
   "cell_type": "code",
   "execution_count": null,
   "id": "2eb0db4b-4243-450f-929d-5f6fd1c89764",
   "metadata": {},
   "outputs": [],
   "source": []
  }
 ],
 "metadata": {
  "kernelspec": {
   "display_name": "geoenv",
   "language": "python",
   "name": "geoenv"
  },
  "language_info": {
   "codemirror_mode": {
    "name": "ipython",
    "version": 3
   },
   "file_extension": ".py",
   "mimetype": "text/x-python",
   "name": "python",
   "nbconvert_exporter": "python",
   "pygments_lexer": "ipython3",
   "version": "3.8.10"
  }
 },
 "nbformat": 4,
 "nbformat_minor": 5
}
